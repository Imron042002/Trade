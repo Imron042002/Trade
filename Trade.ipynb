{
 "cells": [
  {
   "cell_type": "code",
   "execution_count": 3,
   "metadata": {},
   "outputs": [
    {
     "name": "stdout",
     "output_type": "stream",
     "text": [
      "🔎 ข้อมูลหุ้น Energy Absolute Public Company Limited\n",
      "Symbol: EA.BK\n",
      "Exchange: SET\n",
      "Last Price: 2.7\n",
      "Day High: 2.74\n",
      "Day Low: 2.68\n",
      "Change: -0.03999996 (-1.4598526%)\n",
      "Volume: 43759893\n",
      "EPS: 0.56\n",
      "P/E Ratio: 4.821429\n",
      "Dividend Yield: 7.56\n",
      "Implied Volatility: None\n"
     ]
    }
   ],
   "source": [
    "import yfinance as yf\n",
    "\n",
    "# เลือกหุ้นไทย เช่น AOT.BK (Airports of Thailand)\n",
    "symbol = \"EA.BK\"\n",
    "ticker = yf.Ticker(symbol)\n",
    "\n",
    "# ดึงข้อมูลพื้นฐาน\n",
    "info = ticker.info\n",
    "\n",
    "# แสดงข้อมูลสำคัญ\n",
    "print(f\"🔎 ข้อมูลหุ้น {info.get('longName')}\")\n",
    "print(f\"Symbol: {info.get('symbol')}\")\n",
    "print(f\"Exchange: {info.get('exchange')}\")\n",
    "print(f\"Last Price: {info.get('regularMarketPrice')}\")\n",
    "print(f\"Day High: {info.get('dayHigh')}\")\n",
    "print(f\"Day Low: {info.get('dayLow')}\")\n",
    "print(f\"Change: {info.get('regularMarketChange')} ({info.get('regularMarketChangePercent')}%)\")\n",
    "print(f\"Volume: {info.get('volume')}\")\n",
    "print(f\"EPS: {info.get('trailingEps')}\")\n",
    "print(f\"P/E Ratio: {info.get('trailingPE')}\")\n",
    "print(f\"Dividend Yield: {info.get('dividendYield')}\")\n",
    "print(f\"Implied Volatility: {info.get('impliedVolatility')}\")"
   ]
  },
  {
   "cell_type": "code",
   "execution_count": 4,
   "metadata": {},
   "outputs": [
    {
     "name": "stdout",
     "output_type": "stream",
     "text": [
      "Requirement already satisfied: yfinance in c:\\users\\imron\\anaconda3\\lib\\site-packages (0.2.54)\n",
      "Requirement already satisfied: pandas>=1.3.0 in c:\\users\\imron\\anaconda3\\lib\\site-packages (from yfinance) (2.0.3)\n",
      "Requirement already satisfied: numpy>=1.16.5 in c:\\users\\imron\\anaconda3\\lib\\site-packages (from yfinance) (1.24.3)\n",
      "Requirement already satisfied: requests>=2.31 in c:\\users\\imron\\anaconda3\\lib\\site-packages (from yfinance) (2.31.0)\n",
      "Requirement already satisfied: multitasking>=0.0.7 in c:\\users\\imron\\anaconda3\\lib\\site-packages (from yfinance) (0.0.11)\n",
      "Requirement already satisfied: platformdirs>=2.0.0 in c:\\users\\imron\\anaconda3\\lib\\site-packages (from yfinance) (3.10.0)\n",
      "Requirement already satisfied: pytz>=2022.5 in c:\\users\\imron\\anaconda3\\lib\\site-packages (from yfinance) (2023.3.post1)\n",
      "Requirement already satisfied: frozendict>=2.3.4 in c:\\users\\imron\\anaconda3\\lib\\site-packages (from yfinance) (2.4.6)\n",
      "Requirement already satisfied: peewee>=3.16.2 in c:\\users\\imron\\anaconda3\\lib\\site-packages (from yfinance) (3.17.9)\n",
      "Requirement already satisfied: beautifulsoup4>=4.11.1 in c:\\users\\imron\\anaconda3\\lib\\site-packages (from yfinance) (4.12.2)\n",
      "Requirement already satisfied: soupsieve>1.2 in c:\\users\\imron\\anaconda3\\lib\\site-packages (from beautifulsoup4>=4.11.1->yfinance) (2.4)\n",
      "Requirement already satisfied: python-dateutil>=2.8.2 in c:\\users\\imron\\anaconda3\\lib\\site-packages (from pandas>=1.3.0->yfinance) (2.8.2)\n",
      "Requirement already satisfied: tzdata>=2022.1 in c:\\users\\imron\\anaconda3\\lib\\site-packages (from pandas>=1.3.0->yfinance) (2023.3)\n",
      "Requirement already satisfied: charset-normalizer<4,>=2 in c:\\users\\imron\\anaconda3\\lib\\site-packages (from requests>=2.31->yfinance) (2.0.4)\n",
      "Requirement already satisfied: idna<4,>=2.5 in c:\\users\\imron\\anaconda3\\lib\\site-packages (from requests>=2.31->yfinance) (3.4)\n",
      "Requirement already satisfied: urllib3<3,>=1.21.1 in c:\\users\\imron\\anaconda3\\lib\\site-packages (from requests>=2.31->yfinance) (1.26.16)\n",
      "Requirement already satisfied: certifi>=2017.4.17 in c:\\users\\imron\\anaconda3\\lib\\site-packages (from requests>=2.31->yfinance) (2023.11.17)\n",
      "Requirement already satisfied: six>=1.5 in c:\\users\\imron\\anaconda3\\lib\\site-packages (from python-dateutil>=2.8.2->pandas>=1.3.0->yfinance) (1.16.0)\n",
      "Note: you may need to restart the kernel to use updated packages.\n"
     ]
    }
   ],
   "source": [
    "pip install yfinance"
   ]
  }
 ],
 "metadata": {
  "kernelspec": {
   "display_name": "base",
   "language": "python",
   "name": "python3"
  },
  "language_info": {
   "codemirror_mode": {
    "name": "ipython",
    "version": 3
   },
   "file_extension": ".py",
   "mimetype": "text/x-python",
   "name": "python",
   "nbconvert_exporter": "python",
   "pygments_lexer": "ipython3",
   "version": "3.11.5"
  }
 },
 "nbformat": 4,
 "nbformat_minor": 2
}
